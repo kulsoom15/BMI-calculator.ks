{
  "nbformat": 4,
  "nbformat_minor": 0,
  "metadata": {
    "colab": {
      "provenance": [],
      "authorship_tag": "ABX9TyP58siL/G4aJeYSZfo2L8cK",
      "include_colab_link": true
    },
    "kernelspec": {
      "name": "python3",
      "display_name": "Python 3"
    },
    "language_info": {
      "name": "python"
    }
  },
  "cells": [
    {
      "cell_type": "markdown",
      "metadata": {
        "id": "view-in-github",
        "colab_type": "text"
      },
      "source": [
        "<a href=\"https://colab.research.google.com/github/kulsoom15/BMI-calculator.ks/blob/main/Simple_Fitness_Checker.ipynb\" target=\"_parent\"><img src=\"https://colab.research.google.com/assets/colab-badge.svg\" alt=\"Open In Colab\"/></a>"
      ]
    },
    {
      "cell_type": "code",
      "execution_count": null,
      "metadata": {
        "id": "-zae8Gj2HKI6"
      },
      "outputs": [],
      "source": [
        "import streamlit as st\n",
        "import pandas as pd\n",
        "from datetime import datetime\n",
        "\n",
        "# Page configuration\n",
        "st.set_page_config(page_title=\"Simple Fitness Tracker\", page_icon=\"🏋️\", layout=\"centered\")\n",
        "\n",
        "# Title Section\n",
        "st.title(\"🏋️ Simple Fitness Tracker\")\n",
        "st.markdown(\"\"\"\n",
        "Keep track of your workouts, monitor your progress, and view simple stats. Log your exercises and start your fitness journey today!\n",
        "\"\"\")\n",
        "\n",
        "# --- Workout Input ---\n",
        "st.sidebar.header(\"➕ Add New Workout\")\n",
        "if \"workouts\" not in st.session_state:\n",
        "    st.session_state.workouts = pd.DataFrame(columns=[\"Date\", \"Exercise\", \"Duration (minutes)\", \"Calories Burned\"])\n",
        "\n",
        "date = st.sidebar.date_input(\"Date\", datetime.today())\n",
        "exercise = st.sidebar.selectbox(\"Exercise\", [\"Running\", \"Cycling\", \"Yoga\", \"Strength Training\", \"Swimming\", \"Others\"])\n",
        "duration = st.sidebar.number_input(\"Duration (minutes)\", min_value=1, max_value=600, step=1)\n",
        "calories = st.sidebar.number_input(\"Calories Burned\", min_value=0, max_value=2000, step=5)\n",
        "\n",
        "if st.sidebar.button(\"Add Workout\"):\n",
        "    new_workout = pd.DataFrame({\n",
        "        \"Date\": [date],\n",
        "        \"Exercise\": [exercise],\n",
        "        \"Duration (minutes)\": [duration],\n",
        "        \"Calories Burned\": [calories]\n",
        "    })\n",
        "    st.session_state.workouts = pd.concat([st.session_state.workouts, new_workout], ignore_index=True)\n",
        "    st.sidebar.success(\"Workout added!\")\n",
        "\n",
        "# --- Display Workouts ---\n",
        "st.subheader(\"📋 Workout Summary\")\n",
        "st.dataframe(st.session_state.workouts, use_container_width=True)\n",
        "\n",
        "# --- Fitness Statistics ---\n",
        "if not st.session_state.workouts.empty:\n",
        "    st.subheader(\"📊 Fitness Statistics\")\n",
        "\n",
        "    total_workouts = st.session_state.workouts.shape[0]\n",
        "    total_duration = st.session_state.workouts[\"Duration (minutes)\"].sum()\n",
        "    total_calories = st.session_state.workouts[\"Calories Burned\"].sum()\n",
        "\n",
        "    st.write(f\"Total Workouts Logged: {total_workouts}\")\n",
        "    st.write(f\"Total Duration of Workouts: {total_duration} minutes\")\n",
        "    st.write(f\"Total Calories Burned: {total_calories} kcal\")\n",
        "\n",
        "# --- Footer ---\n",
        "st.markdown(\"---\")\n",
        "st.markdown(\"Made with ❤️ by a Beginner 💪\")"
      ]
    },
    {
      "cell_type": "markdown",
      "source": [
        "https://simple-fitness-tracker-ks.streamlit.app/\n"
      ],
      "metadata": {
        "id": "Kw-o8hRSHb6t"
      }
    },
    {
      "cell_type": "code",
      "source": [],
      "metadata": {
        "id": "sOWrSTm1Hm7B"
      },
      "execution_count": null,
      "outputs": []
    },
    {
      "cell_type": "markdown",
      "source": [],
      "metadata": {
        "id": "_5dechwbHNK-"
      }
    },
    {
      "cell_type": "markdown",
      "source": [],
      "metadata": {
        "id": "H5JhPV5OHLrO"
      }
    }
  ]
}