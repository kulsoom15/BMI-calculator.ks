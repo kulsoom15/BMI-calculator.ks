{
  "nbformat": 4,
  "nbformat_minor": 0,
  "metadata": {
    "colab": {
      "provenance": [],
      "authorship_tag": "ABX9TyOIFpPe+jsjUT7HEXRl5tEB",
      "include_colab_link": true
    },
    "kernelspec": {
      "name": "python3",
      "display_name": "Python 3"
    },
    "language_info": {
      "name": "python"
    }
  },
  "cells": [
    {
      "cell_type": "markdown",
      "metadata": {
        "id": "view-in-github",
        "colab_type": "text"
      },
      "source": [
        "<a href=\"https://colab.research.google.com/github/kulsoom15/BMI-calculator.ks/blob/main/BMI_calculator.ipynb\" target=\"_parent\"><img src=\"https://colab.research.google.com/assets/colab-badge.svg\" alt=\"Open In Colab\"/></a>"
      ]
    },
    {
      "cell_type": "markdown",
      "source": [
        "https://bmi-calculatorks.streamlit.app/\n"
      ],
      "metadata": {
        "id": "9Hnon5cAGWAm"
      }
    },
    {
      "cell_type": "code",
      "source": [
        "import streamlit as st\n",
        "from PIL import Image\n",
        "\n",
        "\n",
        "st.title(\"This is My BMI Calculator\")\n",
        "\n",
        "img = Image.open(\"bmi.jpg\")\n",
        "st.image(img)\n",
        "\n",
        "# Introduction\n",
        "\n",
        "st.subheader(\"Introduction\")\n",
        "\n",
        "st.text(\"\"\"\n",
        "BMI is a person’s weight in kilograms divided by the square of height in meters.\n",
        "A high BMI can indicate high body fatness.\n",
        "\n",
        "If your BMI is less than 18.5, it falls within the underweight range.\n",
        "If your BMI is 18.5 to <25, it falls within the healthy weight range.\n",
        "If your BMI is 25.0 to <30, it falls within the overweight range.\n",
        "If your BMI is 30.0 or higher, it falls within the obesity range.\n",
        "\n",
        "Obesity is frequently subdivided into categories:\n",
        "\n",
        "Class 1: BMI of 30 to < 35\n",
        "Class 2: BMI of 35 to < 40\n",
        "Class 3: BMI of 40 or higher.\n",
        "Class 3 obesity is sometimes categorized as “severe” obesity.\n",
        "\n",
        "\n",
        "\n",
        "\t\"\"\")\n",
        "\n",
        "\n",
        "# Input\n",
        "\n",
        "weight = st.number_input(\"Enter your Weight in KG\", step = 0.1)\n",
        "\n",
        "height = st.number_input(\"Enter your Height in Meters\")\n",
        "\n",
        "\n",
        "bmi = weight/(height)**2\n",
        "\n",
        "st.success(f\"Your BMI is {bmi}\")"
      ],
      "metadata": {
        "id": "oPtXi1ZLGykE"
      },
      "execution_count": null,
      "outputs": []
    }
  ]
}